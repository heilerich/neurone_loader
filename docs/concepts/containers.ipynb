{
 "cells": [
  {
   "cell_type": "code",
   "execution_count": 1,
   "metadata": {
    "nbsphinx": "hidden"
   },
   "outputs": [],
   "source": [
    "import sys\n",
    "import os\n",
    "sys.path.insert(0, os.path.abspath('../../'))\n",
    "test_data_path = '../../test/test_data/'\n",
    "import neurone_loader\n",
    "import logging\n",
    "neurone_loader.lazy.logger.debug = print"
   ]
  },
  {
   "cell_type": "markdown",
   "metadata": {},
   "source": [
    "# Containers and data structure"
   ]
  },
  {
   "cell_type": "markdown",
   "metadata": {},
   "source": [
    "NeurOne recordings consist of three structures:\n",
    "\n",
    "1. A **recording** containing (multiple)\n",
    "2. **sessions** containing (multiple)\n",
    "3. **phases** containing the actual data\n",
    "\n",
    "Accordingly `neurone_loader` provides three containers representing these structures."
   ]
  },
  {
   "cell_type": "code",
   "execution_count": 2,
   "metadata": {},
   "outputs": [],
   "source": [
    "from neurone_loader import Recording, Session, Phase"
   ]
  },
  {
   "cell_type": "markdown",
   "metadata": {},
   "source": [
    "In each of these you can access the `data` and metadata like `sampling_rate` or `channels` and\n",
    "all of them support the features described in [Lazy loading](/concepts/lazy_loading.html).\n",
    "\n",
    "`Session` and `Recording` technically don't hold data themselves. On the other hand one usually wants\n",
    "to work with the whole recording or at least a whole session of a recording. Therefore accessing the `.data` or any\n",
    "other attribute of `Session` or `Recording` will concatenate the data for you. Be aware that\n",
    "in order to save memory, accessing the `.data` attribute of a superseeding object will replace the\n",
    "`.data` attribute of the included containers with a view on the concatenated data. So if you manipulate\n",
    "any one of them you will also manipulate the other."
   ]
  },
  {
   "cell_type": "code",
   "execution_count": 3,
   "metadata": {},
   "outputs": [
    {
     "name": "stdout",
     "output_type": "stream",
     "text": [
      "(Lazy) loading Phase.n_samples\n",
      "(Lazy) loading Phase.n_samples\n",
      "(Lazy) loading Phase.n_samples\n",
      "(Lazy) loading Phase.n_samples\n",
      "\n",
      "\n",
      "session0.n_samples == sum_of_samples_of_phases_in_session0 is True\n"
     ]
    }
   ],
   "source": [
    "rec = Recording(test_data_path)\n",
    "session0 = rec.sessions[0]\n",
    "sum_of_samples_of_phases_in_session0 = sum([p.n_samples for p in session0.phases])\n",
    "print('\\n')\n",
    "print(f'session0.n_samples == sum_of_samples_of_phases_in_session0 is {session0.n_samples == sum_of_samples_of_phases_in_session0}')"
   ]
  },
  {
   "cell_type": "markdown",
   "metadata": {},
   "source": [
    "For a detailed description refer to the [API documentation](/_autosummary/neurone_loader.loader.html) of the respective objects"
   ]
  }
 ],
 "metadata": {
  "kernelspec": {
   "display_name": "Python [conda env:dataloader]",
   "language": "python",
   "name": "conda-env-dataloader-py"
  },
  "language_info": {
   "codemirror_mode": {
    "name": "ipython",
    "version": 3
   },
   "file_extension": ".py",
   "mimetype": "text/x-python",
   "name": "python",
   "nbconvert_exporter": "python",
   "pygments_lexer": "ipython3",
   "version": "3.6.6"
  }
 },
 "nbformat": 4,
 "nbformat_minor": 2
}
