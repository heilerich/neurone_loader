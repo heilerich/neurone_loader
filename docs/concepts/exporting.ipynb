{
 "cells": [
  {
   "cell_type": "code",
   "execution_count": 1,
   "metadata": {
    "nbsphinx": "hidden"
   },
   "outputs": [],
   "source": [
    "import sys\n",
    "import os\n",
    "sys.path.insert(0, os.path.abspath('../../'))\n",
    "test_data_path = '../../test/test_data/'\n",
    "import neurone_loader\n",
    "import logging\n",
    "neurone_loader.lazy.logger.debug = print\n",
    "neurone_loader.mne_export.logger.warning = lambda x: x"
   ]
  },
  {
   "cell_type": "markdown",
   "metadata": {},
   "source": [
    "# Exporting"
   ]
  },
  {
   "cell_type": "markdown",
   "metadata": {},
   "source": [
    "All three containers `Recording`, `Session` and `Phase` implement the ability to \n",
    "export the data (including events) to a `mne.io.RawArray`. To do this simply call\n",
    "the [.to_mne()](/_autosummary/neurone_loader.mne_export.html#neurone_loader.mne_export.MneExportable.to_mne)\n",
    "function of any container. Be aware that this process involves copying the data in\n",
    "memory, so it might require (at least momentary) up to double the size of the data in memory space."
   ]
  },
  {
   "cell_type": "code",
   "execution_count": 2,
   "metadata": {},
   "outputs": [],
   "source": [
    "from neurone_loader import Recording"
   ]
  },
  {
   "cell_type": "code",
   "execution_count": 3,
   "metadata": {},
   "outputs": [],
   "source": [
    "rec = Recording(test_data_path)\n",
    "session0 = rec.sessions[0]"
   ]
  },
  {
   "cell_type": "code",
   "execution_count": 4,
   "metadata": {},
   "outputs": [
    {
     "name": "stdout",
     "output_type": "stream",
     "text": [
      "(Lazy) loading Phase.events\n",
      "(Lazy) loading Phase.n_samples\n",
      "(Lazy) loading Phase.events\n",
      "(Lazy) loading Phase.n_samples\n",
      "(Lazy) loading Phase.events\n",
      "(Lazy) loading Phase.n_samples\n",
      "(Lazy) loading Phase.events\n",
      "(Lazy) loading Phase.n_samples\n",
      "(Lazy) loading Session.data\n",
      "(Lazy) loading Phase.data\n",
      "(Lazy) loading Phase.data\n",
      "(Lazy) loading Phase.data\n",
      "(Lazy) loading Phase.data\n",
      "Error: events with event code 0 are not supported by MNE, use the substitute_zero_events_with parameter of this method to substitute with an alternative code\n"
     ]
    }
   ],
   "source": [
    "try:\n",
    "    cnt = session0.to_mne()\n",
    "except AssertionError as e:\n",
    "    print(f'Error: {e}')"
   ]
  },
  {
   "cell_type": "markdown",
   "metadata": {},
   "source": [
    "The way MNE represents events in a stimulation channel prevents it from using events with\n",
    "the event code 0. In order to successfully convert you must either\n",
    "\n",
    "* manipulate the `.events` data of the container to remove or substitute the events with Code == 0\n",
    "* or use the `substitute_zero_events_with` argument to provide a alternative number for automatic subtitution\n",
    "\n",
    "Make sure though that the alternative event code you are using is not already present in the data!"
   ]
  },
  {
   "cell_type": "code",
   "execution_count": 5,
   "metadata": {},
   "outputs": [
    {
     "name": "stdout",
     "output_type": "stream",
     "text": [
      "Creating RawArray with float64 data, n_channels=138, n_times=2504369\n",
      "    Range : 0 ... 2504368 =      0.000 ...   500.874 secs\n",
      "Ready.\n"
     ]
    }
   ],
   "source": [
    "alt_code = 10\n",
    "assert alt_code not in session0.event_codes\n",
    "cnt = session0.to_mne(substitute_zero_events_with=alt_code)"
   ]
  },
  {
   "cell_type": "markdown",
   "metadata": {},
   "source": [
    "For more details refer to the API documentation of  [.to_mne()](/_autosummary/neurone_loader.mne_export.html#neurone_loader.mne_export.MneExportable.to_mne)"
   ]
  }
 ],
 "metadata": {
  "kernelspec": {
   "display_name": "Python [conda env:dataloader]",
   "language": "python",
   "name": "conda-env-dataloader-py"
  },
  "language_info": {
   "codemirror_mode": {
    "name": "ipython",
    "version": 3
   },
   "file_extension": ".py",
   "mimetype": "text/x-python",
   "name": "python",
   "nbconvert_exporter": "python",
   "pygments_lexer": "ipython3",
   "version": "3.6.6"
  }
 },
 "nbformat": 4,
 "nbformat_minor": 2
}
