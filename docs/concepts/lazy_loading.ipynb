{
 "cells": [
  {
   "cell_type": "code",
   "execution_count": 1,
   "metadata": {
    "nbsphinx": "hidden"
   },
   "outputs": [],
   "source": [
    "import sys\n",
    "import os\n",
    "sys.path.insert(0, os.path.abspath('../../'))\n",
    "test_data_path = '../../test/test_data/'\n",
    "import neurone_loader\n",
    "import logging\n",
    "neurone_loader.lazy.logger.debug = print"
   ]
  },
  {
   "cell_type": "markdown",
   "metadata": {},
   "source": [
    "# Lazy loading\n"
   ]
  },
  {
   "cell_type": "markdown",
   "metadata": {},
   "source": [
    "Because raw EEG recordings can be quite large this package is very aware of memory restrictions\n",
    "and possible bottlenecks due to long loading times from disk.\n",
    "\n",
    "Therefore most actions that require loading data from disk into memory are executed lazily, meaning:\n",
    "\n",
    "1. the data is loaded from disk when you access it for the first time\n",
    "2. the data remains in memory and can be accessed very fast subsequently\n",
    "\n",
    "To make working with the data more comfortable, the creation of containers and the loading of metadata on the other hand happens instantly."
   ]
  },
  {
   "cell_type": "code",
   "execution_count": 2,
   "metadata": {},
   "outputs": [],
   "source": [
    "from neurone_loader import Recording"
   ]
  },
  {
   "cell_type": "markdown",
   "metadata": {},
   "source": [
    "<div class=\"alert alert-info\">\n",
    "\n",
    "The following examples use the `Recording` container, but all of the features shown below also work with `Session` and `Phase`!\n",
    "\n",
    "</div>"
   ]
  },
  {
   "cell_type": "code",
   "execution_count": 3,
   "metadata": {},
   "outputs": [
    {
     "name": "stdout",
     "output_type": "stream",
     "text": [
      "CPU times: user 15.5 ms, sys: 0 ns, total: 15.5 ms\n",
      "Wall time: 14.7 ms\n"
     ]
    }
   ],
   "source": [
    "# fast: only relevant metadata is loaded from disk\n",
    "%time rec = Recording(test_data_path)"
   ]
  },
  {
   "cell_type": "code",
   "execution_count": 4,
   "metadata": {},
   "outputs": [
    {
     "name": "stdout",
     "output_type": "stream",
     "text": [
      "Sessions: 2\n",
      "Sampling rate: 5000Hz\n",
      "CPU times: user 293 µs, sys: 0 ns, total: 293 µs\n",
      "Wall time: 206 µs\n"
     ]
    }
   ],
   "source": [
    "%%time\n",
    "# fast: metadata is already in memory\n",
    "print(f'Sessions: {len(rec.sessions)}')\n",
    "print(f'Sampling rate: {rec.sampling_rate}Hz')"
   ]
  },
  {
   "cell_type": "code",
   "execution_count": 5,
   "metadata": {},
   "outputs": [
    {
     "name": "stdout",
     "output_type": "stream",
     "text": [
      "(Lazy) loading Session.data\n",
      "(Lazy) loading Phase.data\n",
      "(Lazy) loading Phase.data\n",
      "(Lazy) loading Phase.data\n",
      "(Lazy) loading Phase.data\n",
      "Session 1 shape: (2504369, 138)\n",
      "CPU times: user 9.7 s, sys: 2.73 s, total: 12.4 s\n",
      "Wall time: 4.05 s\n"
     ]
    }
   ],
   "source": [
    "%%time\n",
    "# this is slow: the session data needs to be retrieved from disk first\n",
    "print(f'Session 1 shape: {rec.sessions[0].data.shape}')"
   ]
  },
  {
   "cell_type": "code",
   "execution_count": 6,
   "metadata": {},
   "outputs": [
    {
     "name": "stdout",
     "output_type": "stream",
     "text": [
      "Session 1 shape again: (2504369, 138)\n",
      "CPU times: user 2.03 ms, sys: 528 µs, total: 2.55 ms\n",
      "Wall time: 162 µs\n"
     ]
    }
   ],
   "source": [
    "%%time\n",
    "# this will be faster because the data is already in memory\n",
    "print(f'Session 1 shape again: {rec.sessions[0].data.shape}')"
   ]
  },
  {
   "cell_type": "markdown",
   "metadata": {},
   "source": [
    "As you can see above the container object can be contructed and used very memory and time efficient. \n",
    "Reading the actual session data, which can take a long time and may consume a lot of memory, is only happening when the data is actually needed.\n",
    "On subsequent calls the already loaded data is retrieved from memory which is much faster.\n",
    "\n",
    "To save memory the data can be cleared from memory using the `.clear_data()` function."
   ]
  },
  {
   "cell_type": "code",
   "execution_count": 7,
   "metadata": {},
   "outputs": [],
   "source": [
    "rec.clear_data()"
   ]
  },
  {
   "cell_type": "markdown",
   "metadata": {},
   "source": [
    "## Preloading\n",
    "In some cases you may want to load all of the data from disk at once. There are\n",
    "two ways to achieve this.\n",
    "\n",
    "1. Invoke the loading of all (not yet loaded) data by calling `.preload()`\n",
    "2. Load all the data on initialization by setting the argument `preload=True`"
   ]
  },
  {
   "cell_type": "code",
   "execution_count": 8,
   "metadata": {},
   "outputs": [
    {
     "name": "stdout",
     "output_type": "stream",
     "text": [
      "Preloading property data of <neurone_loader.loader.Recording object at 0x7f905d013898>\n",
      "(Lazy) loading Recording.data\n",
      "(Lazy) loading Session.data\n",
      "(Lazy) loading Phase.data\n",
      "(Lazy) loading Phase.data\n",
      "(Lazy) loading Phase.data\n",
      "(Lazy) loading Phase.data\n",
      "(Lazy) loading Session.data\n",
      "(Lazy) loading Phase.data\n",
      "(Lazy) loading Phase.data\n",
      "(Lazy) loading Phase.data\n",
      "(Lazy) loading Phase.data\n",
      "(Lazy) loading Phase.events\n",
      "(Lazy) loading Phase.events\n",
      "(Lazy) loading Phase.events\n",
      "(Lazy) loading Phase.events\n",
      "(Lazy) loading Phase.events\n",
      "(Lazy) loading Phase.events\n",
      "(Lazy) loading Phase.events\n",
      "(Lazy) loading Phase.events\n",
      "(Lazy) loading Phase.n_samples\n",
      "(Lazy) loading Phase.n_samples\n",
      "(Lazy) loading Phase.n_samples\n",
      "(Lazy) loading Phase.n_samples\n",
      "(Lazy) loading Phase.n_samples\n",
      "(Lazy) loading Phase.n_samples\n",
      "(Lazy) loading Phase.n_samples\n",
      "(Lazy) loading Phase.n_samples\n",
      "(Lazy) loading Phase.n_channels\n",
      "(Lazy) loading Phase.n_channels\n",
      "(Lazy) loading Phase.n_channels\n",
      "(Lazy) loading Phase.n_channels\n",
      "(Lazy) loading Phase.n_channels\n",
      "(Lazy) loading Phase.n_channels\n",
      "(Lazy) loading Phase.n_channels\n",
      "(Lazy) loading Phase.n_channels\n"
     ]
    }
   ],
   "source": [
    "#Reload all the data cleared in [7]\n",
    "rec.preload()"
   ]
  },
  {
   "cell_type": "code",
   "execution_count": 9,
   "metadata": {},
   "outputs": [
    {
     "name": "stdout",
     "output_type": "stream",
     "text": [
      "Preloading property data of <neurone_loader.loader.Recording object at 0x7f9063412ef0>\n",
      "(Lazy) loading Recording.data\n",
      "(Lazy) loading Session.data\n",
      "(Lazy) loading Phase.data\n",
      "(Lazy) loading Phase.data\n",
      "(Lazy) loading Phase.data\n",
      "(Lazy) loading Phase.data\n",
      "(Lazy) loading Session.data\n",
      "(Lazy) loading Phase.data\n",
      "(Lazy) loading Phase.data\n",
      "(Lazy) loading Phase.data\n",
      "(Lazy) loading Phase.data\n",
      "(Lazy) loading Phase.events\n",
      "(Lazy) loading Phase.events\n",
      "(Lazy) loading Phase.events\n",
      "(Lazy) loading Phase.events\n",
      "(Lazy) loading Phase.events\n",
      "(Lazy) loading Phase.events\n",
      "(Lazy) loading Phase.events\n",
      "(Lazy) loading Phase.events\n",
      "(Lazy) loading Phase.n_samples\n",
      "(Lazy) loading Phase.n_samples\n",
      "(Lazy) loading Phase.n_samples\n",
      "(Lazy) loading Phase.n_samples\n",
      "(Lazy) loading Phase.n_samples\n",
      "(Lazy) loading Phase.n_samples\n",
      "(Lazy) loading Phase.n_samples\n",
      "(Lazy) loading Phase.n_samples\n",
      "(Lazy) loading Phase.n_channels\n",
      "(Lazy) loading Phase.n_channels\n",
      "(Lazy) loading Phase.n_channels\n",
      "(Lazy) loading Phase.n_channels\n",
      "(Lazy) loading Phase.n_channels\n",
      "(Lazy) loading Phase.n_channels\n",
      "(Lazy) loading Phase.n_channels\n",
      "(Lazy) loading Phase.n_channels\n"
     ]
    }
   ],
   "source": [
    "# Load all of the data on initialization\n",
    "not_so_lazy_rec = Recording(test_data_path, preload=True)"
   ]
  }
 ],
 "metadata": {
  "kernelspec": {
   "display_name": "Python [conda env:dataloader]",
   "language": "python",
   "name": "conda-env-dataloader-py"
  },
  "language_info": {
   "codemirror_mode": {
    "name": "ipython",
    "version": 3
   },
   "file_extension": ".py",
   "mimetype": "text/x-python",
   "name": "python",
   "nbconvert_exporter": "python",
   "pygments_lexer": "ipython3",
   "version": "3.6.6"
  }
 },
 "nbformat": 4,
 "nbformat_minor": 2
}
